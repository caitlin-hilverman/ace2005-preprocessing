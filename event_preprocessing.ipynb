{
 "cells": [
  {
   "cell_type": "code",
   "execution_count": 1,
   "metadata": {},
   "outputs": [],
   "source": [
    "#!/usr/bin/env python3\n",
    "\n",
    "import sys\n",
    "import os\n",
    "import logging\n",
    "import json\n",
    "import glob\n",
    "import pandas as pd\n",
    "import spacy\n",
    "from stanfordcorenlp import StanfordCoreNLP\n",
    "import re\n",
    "\n",
    "\n",
    "#sys.path.append('/Users/chilv/Documents/proj-wm/event_extraction/bert-event-extraction-master/ace2005-preprocessing-master')\n",
    "\n",
    "from tqdm import tqdm\n",
    "# from main import find_token_index\n",
    "# from _parser import Parser\n",
    "# import main"
   ]
  },
  {
   "cell_type": "code",
   "execution_count": 2,
   "metadata": {},
   "outputs": [],
   "source": [
    "nlp = spacy.load('en_core_web_lg', disable=[\"tagger\", \"parser\"])\n",
    "max_length = os.getenv(\"MAX_DOCUMENT_LENGTH\")\n",
    "if max_length:\n",
    "    nlp.max_length = int(max_length)"
   ]
  },
  {
   "cell_type": "code",
   "execution_count": 3,
   "metadata": {},
   "outputs": [],
   "source": [
    "# globbed_files = glob.glob(\"/Users/chilv/Documents/proj-wm/bias-stance/bias_stance/MITRE Six-Twelve Month and November Docs CDRs/*.cdr\")\n",
    "# data = []\n",
    "# for one_file in globbed_files:\n",
    "#     frame = pd.read_json(one_file, lines=True)\n",
    "#     data.append(frame)"
   ]
  },
  {
   "cell_type": "code",
   "execution_count": 4,
   "metadata": {},
   "outputs": [],
   "source": [
    "# cdr_data = pd.concat(data, ignore_index = True, sort = False);"
   ]
  },
  {
   "cell_type": "code",
   "execution_count": 5,
   "metadata": {},
   "outputs": [],
   "source": [
    "# txt = cdr_data['extracted_text'][1]"
   ]
  },
  {
   "cell_type": "code",
   "execution_count": 6,
   "metadata": {},
   "outputs": [],
   "source": [
    "sentencizer = nlp.create_pipe(\"sentencizer\")\n",
    "nlp.add_pipe(sentencizer)"
   ]
  },
  {
   "cell_type": "code",
   "execution_count": 7,
   "metadata": {},
   "outputs": [],
   "source": [
    "text = \"caitie is providing a couple of sample sentences. caitie might need some help from jewell or max.\""
   ]
  },
  {
   "cell_type": "code",
   "execution_count": 8,
   "metadata": {},
   "outputs": [
    {
     "data": {
      "text/plain": [
       "'caitie is providing a couple of sample sentences. caitie might need some help from jewell or max.'"
      ]
     },
     "execution_count": 8,
     "metadata": {},
     "output_type": "execute_result"
    }
   ],
   "source": [
    "text"
   ]
  },
  {
   "cell_type": "code",
   "execution_count": 9,
   "metadata": {},
   "outputs": [],
   "source": [
    "doc = nlp(text)"
   ]
  },
  {
   "cell_type": "code",
   "execution_count": 10,
   "metadata": {},
   "outputs": [],
   "source": [
    "def sentence_dict_list(doc):\n",
    "    \"\"\"Returns a list of dictionaries for each sentence in a CDR.\n",
    "    This is just a few of those necessary for the model.\n",
    "    \"\"\"\n",
    "    sentences = []\n",
    "    for sent in doc.sents:\n",
    "        sentence_dict = {}\n",
    "        sentence_dict['sentence'] = sent.text\n",
    "        sentence_dict['position'] = [sent.start_char, sent.end_char]\n",
    "        entities = []\n",
    "        for ent in sent.ents:\n",
    "            entity_dict = {}\n",
    "            entity_dict['text'] = ent.text\n",
    "            entity_dict['position'] = [ent.start_char, ent.end_char]\n",
    "            entity_dict['entity-type'] = ent.label_\n",
    "            entities.append(entity_dict)\n",
    "        sentence_dict['golden-entity-mentions'] = entities\n",
    "        sentence_dict['golden-event-mentions'] = []\n",
    "        sentences.append(sentence_dict)\n",
    "    return sentences"
   ]
  },
  {
   "cell_type": "code",
   "execution_count": 11,
   "metadata": {},
   "outputs": [
    {
     "data": {
      "text/plain": [
       "[{'sentence': 'caitie is providing a couple of sample sentences.',\n",
       "  'position': [0, 49],\n",
       "  'golden-entity-mentions': [{'text': 'caitie',\n",
       "    'position': [0, 6],\n",
       "    'entity-type': 'ORG'}],\n",
       "  'golden-event-mentions': []},\n",
       " {'sentence': 'caitie might need some help from jewell or max.',\n",
       "  'position': [50, 97],\n",
       "  'golden-entity-mentions': [{'text': 'caitie',\n",
       "    'position': [50, 56],\n",
       "    'entity-type': 'PERSON'},\n",
       "   {'text': 'jewell', 'position': [83, 89], 'entity-type': 'PERSON'},\n",
       "   {'text': 'max', 'position': [93, 96], 'entity-type': 'PERSON'}],\n",
       "  'golden-event-mentions': []}]"
      ]
     },
     "execution_count": 11,
     "metadata": {},
     "output_type": "execute_result"
    }
   ],
   "source": [
    "sentences = sentence_dict_list(doc)\n",
    "sentences"
   ]
  },
  {
   "cell_type": "code",
   "execution_count": 12,
   "metadata": {},
   "outputs": [],
   "source": [
    "class StanfordNLP:\n",
    "    \"\"\"Getting Stanford running with necessary annotators\"\"\"\n",
    "    def __init__(self, host='http://localhost', port=9000):\n",
    "        self.nlp = StanfordCoreNLP(host, port=port,\n",
    "                                   timeout=60000)  # , quiet=False, logging_level=logging.DEBUG)\n",
    "        self.props = {\n",
    "            'annotators': 'tokenize,ssplit,pos,lemma,parse',\n",
    "            'pipelineLanguage': 'en',\n",
    "            'outputFormat': 'json'\n",
    "        }\n",
    "\n",
    "    def annotate(self, sentence):\n",
    "        return self.nlp.annotate(sentence, properties=self.props)"
   ]
  },
  {
   "cell_type": "code",
   "execution_count": 13,
   "metadata": {},
   "outputs": [],
   "source": [
    "Snlp = StanfordNLP()"
   ]
  },
  {
   "cell_type": "code",
   "execution_count": 14,
   "metadata": {},
   "outputs": [],
   "source": [
    "def get_stanford_core_data(sentences):\n",
    "    \"\"\"Fills in the stanford core values needed for the model.\"\"\"\n",
    "    result = []\n",
    "    for item in sentences:\n",
    "        data = dict()\n",
    "        data['sentence'] = item['sentence']\n",
    "        data['position'] = item['position']\n",
    "        data['golden-entity-mentions'] = item['golden-entity-mentions']\n",
    "        data['golden-event-mentions'] = []\n",
    "        try:\n",
    "            nlp_res_raw = Snlp.annotate(item['sentence'])\n",
    "            nlp_res = json.loads(nlp_res_raw)\n",
    "            result.append(data)\n",
    "        except Exception as e:\n",
    "            print('[Warning] StanfordCore Exception: ', nlp_res_raw, 'This sentence will be ignored.')\n",
    "            print('If you want to include all sentences, please refer to this issue: https://github.com/nlpcl-lab/ace2005-preprocessing/issues/1')\n",
    "            continue\n",
    "        tokens = nlp_res['sentences'][0]['tokens']\n",
    "        data['stanford-colcc'] = []\n",
    "        for dep in nlp_res['sentences'][0]['enhancedPlusPlusDependencies']:\n",
    "            data['stanford-colcc'].append('{}/dep={}/gov={}'.format(dep['dep'], dep['dependent'] - 1, dep['governor'] - 1))\n",
    "\n",
    "        data['words'] = list(map(lambda x: x['word'], tokens))\n",
    "        data['pos-tags'] = list(map(lambda x: x['pos'], tokens))\n",
    "        data['lemma'] = list(map(lambda x: x['lemma'], tokens))\n",
    "        data['parse'] = nlp_res['sentences'][0]['parse']\n",
    "        result.append(data)\n",
    "    return result"
   ]
  },
  {
   "cell_type": "code",
   "execution_count": 15,
   "metadata": {},
   "outputs": [],
   "source": [
    "post11 = get_stanford_core_data(sentences)"
   ]
  },
  {
   "cell_type": "code",
   "execution_count": 16,
   "metadata": {},
   "outputs": [
    {
     "data": {
      "text/plain": [
       "[{'sentence': 'caitie is providing a couple of sample sentences.',\n",
       "  'position': [0, 49],\n",
       "  'golden-entity-mentions': [{'text': 'caitie',\n",
       "    'position': [0, 6],\n",
       "    'entity-type': 'ORG'}],\n",
       "  'golden-event-mentions': [],\n",
       "  'stanford-colcc': ['ROOT/dep=2/gov=-1',\n",
       "   'nsubj/dep=0/gov=2',\n",
       "   'aux/dep=1/gov=2',\n",
       "   'det:qmod/dep=3/gov=7',\n",
       "   'mwe/dep=4/gov=3',\n",
       "   'mwe/dep=5/gov=3',\n",
       "   'compound/dep=6/gov=7',\n",
       "   'dobj/dep=7/gov=2',\n",
       "   'punct/dep=8/gov=2'],\n",
       "  'words': ['caitie',\n",
       "   'is',\n",
       "   'providing',\n",
       "   'a',\n",
       "   'couple',\n",
       "   'of',\n",
       "   'sample',\n",
       "   'sentences',\n",
       "   '.'],\n",
       "  'pos-tags': ['NN', 'VBZ', 'VBG', 'DT', 'NN', 'IN', 'NN', 'NNS', '.'],\n",
       "  'lemma': ['caitie',\n",
       "   'be',\n",
       "   'provide',\n",
       "   'a',\n",
       "   'couple',\n",
       "   'of',\n",
       "   'sample',\n",
       "   'sentence',\n",
       "   '.'],\n",
       "  'parse': '(ROOT\\n  (S\\n    (NP (NN caitie))\\n    (VP (VBZ is)\\n      (VP (VBG providing)\\n        (NP\\n          (NP (DT a) (NN couple))\\n          (PP (IN of)\\n            (NP (NN sample) (NNS sentences))))))\\n    (. .)))'},\n",
       " {'sentence': 'caitie is providing a couple of sample sentences.',\n",
       "  'position': [0, 49],\n",
       "  'golden-entity-mentions': [{'text': 'caitie',\n",
       "    'position': [0, 6],\n",
       "    'entity-type': 'ORG'}],\n",
       "  'golden-event-mentions': [],\n",
       "  'stanford-colcc': ['ROOT/dep=2/gov=-1',\n",
       "   'nsubj/dep=0/gov=2',\n",
       "   'aux/dep=1/gov=2',\n",
       "   'det:qmod/dep=3/gov=7',\n",
       "   'mwe/dep=4/gov=3',\n",
       "   'mwe/dep=5/gov=3',\n",
       "   'compound/dep=6/gov=7',\n",
       "   'dobj/dep=7/gov=2',\n",
       "   'punct/dep=8/gov=2'],\n",
       "  'words': ['caitie',\n",
       "   'is',\n",
       "   'providing',\n",
       "   'a',\n",
       "   'couple',\n",
       "   'of',\n",
       "   'sample',\n",
       "   'sentences',\n",
       "   '.'],\n",
       "  'pos-tags': ['NN', 'VBZ', 'VBG', 'DT', 'NN', 'IN', 'NN', 'NNS', '.'],\n",
       "  'lemma': ['caitie',\n",
       "   'be',\n",
       "   'provide',\n",
       "   'a',\n",
       "   'couple',\n",
       "   'of',\n",
       "   'sample',\n",
       "   'sentence',\n",
       "   '.'],\n",
       "  'parse': '(ROOT\\n  (S\\n    (NP (NN caitie))\\n    (VP (VBZ is)\\n      (VP (VBG providing)\\n        (NP\\n          (NP (DT a) (NN couple))\\n          (PP (IN of)\\n            (NP (NN sample) (NNS sentences))))))\\n    (. .)))'},\n",
       " {'sentence': 'caitie might need some help from jewell or max.',\n",
       "  'position': [50, 97],\n",
       "  'golden-entity-mentions': [{'text': 'caitie',\n",
       "    'position': [50, 56],\n",
       "    'entity-type': 'PERSON'},\n",
       "   {'text': 'jewell', 'position': [83, 89], 'entity-type': 'PERSON'},\n",
       "   {'text': 'max', 'position': [93, 96], 'entity-type': 'PERSON'}],\n",
       "  'golden-event-mentions': [],\n",
       "  'stanford-colcc': ['ROOT/dep=2/gov=-1',\n",
       "   'nsubj/dep=0/gov=2',\n",
       "   'aux/dep=1/gov=2',\n",
       "   'det/dep=3/gov=4',\n",
       "   'dobj/dep=4/gov=2',\n",
       "   'case/dep=5/gov=6',\n",
       "   'nmod:from/dep=6/gov=2',\n",
       "   'cc/dep=7/gov=6',\n",
       "   'nmod:from/dep=8/gov=2',\n",
       "   'conj:or/dep=8/gov=6',\n",
       "   'punct/dep=9/gov=2'],\n",
       "  'words': ['caitie',\n",
       "   'might',\n",
       "   'need',\n",
       "   'some',\n",
       "   'help',\n",
       "   'from',\n",
       "   'jewell',\n",
       "   'or',\n",
       "   'max',\n",
       "   '.'],\n",
       "  'pos-tags': ['NN', 'MD', 'VB', 'DT', 'NN', 'IN', 'NN', 'CC', 'NN', '.'],\n",
       "  'lemma': ['caitie',\n",
       "   'might',\n",
       "   'need',\n",
       "   'some',\n",
       "   'help',\n",
       "   'from',\n",
       "   'jewell',\n",
       "   'or',\n",
       "   'max',\n",
       "   '.'],\n",
       "  'parse': '(ROOT\\n  (S\\n    (NP (NN caitie))\\n    (VP (MD might)\\n      (VP (VB need)\\n        (NP (DT some) (NN help))\\n        (PP (IN from)\\n          (NP (NN jewell)\\n            (CC or)\\n            (NN max)))))\\n    (. .)))'},\n",
       " {'sentence': 'caitie might need some help from jewell or max.',\n",
       "  'position': [50, 97],\n",
       "  'golden-entity-mentions': [{'text': 'caitie',\n",
       "    'position': [50, 56],\n",
       "    'entity-type': 'PERSON'},\n",
       "   {'text': 'jewell', 'position': [83, 89], 'entity-type': 'PERSON'},\n",
       "   {'text': 'max', 'position': [93, 96], 'entity-type': 'PERSON'}],\n",
       "  'golden-event-mentions': [],\n",
       "  'stanford-colcc': ['ROOT/dep=2/gov=-1',\n",
       "   'nsubj/dep=0/gov=2',\n",
       "   'aux/dep=1/gov=2',\n",
       "   'det/dep=3/gov=4',\n",
       "   'dobj/dep=4/gov=2',\n",
       "   'case/dep=5/gov=6',\n",
       "   'nmod:from/dep=6/gov=2',\n",
       "   'cc/dep=7/gov=6',\n",
       "   'nmod:from/dep=8/gov=2',\n",
       "   'conj:or/dep=8/gov=6',\n",
       "   'punct/dep=9/gov=2'],\n",
       "  'words': ['caitie',\n",
       "   'might',\n",
       "   'need',\n",
       "   'some',\n",
       "   'help',\n",
       "   'from',\n",
       "   'jewell',\n",
       "   'or',\n",
       "   'max',\n",
       "   '.'],\n",
       "  'pos-tags': ['NN', 'MD', 'VB', 'DT', 'NN', 'IN', 'NN', 'CC', 'NN', '.'],\n",
       "  'lemma': ['caitie',\n",
       "   'might',\n",
       "   'need',\n",
       "   'some',\n",
       "   'help',\n",
       "   'from',\n",
       "   'jewell',\n",
       "   'or',\n",
       "   'max',\n",
       "   '.'],\n",
       "  'parse': '(ROOT\\n  (S\\n    (NP (NN caitie))\\n    (VP (MD might)\\n      (VP (VB need)\\n        (NP (DT some) (NN help))\\n        (PP (IN from)\\n          (NP (NN jewell)\\n            (CC or)\\n            (NN max)))))\\n    (. .)))'}]"
      ]
     },
     "execution_count": 16,
     "metadata": {},
     "output_type": "execute_result"
    }
   ],
   "source": [
    "post11"
   ]
  },
  {
   "cell_type": "code",
   "execution_count": 17,
   "metadata": {},
   "outputs": [],
   "source": [
    "def find_token_index(tokens, start_pos, end_pos, phrase):\n",
    "    start_idx, end_idx = -1, -1\n",
    "    for idx, token in enumerate(tokens):\n",
    "        if token['characterOffsetBegin'] <= start_pos:\n",
    "            start_idx = idx\n",
    "\n",
    "    assert start_idx != -1, \"start_idx: {}, start_pos: {}, phrase: {}, tokens: {}\".format(start_idx, start_pos, phrase, tokens)\n",
    "    chars = ''\n",
    "\n",
    "    def remove_punc(s):\n",
    "        s = re.sub(r'[^\\w]', '', s)\n",
    "        return s\n",
    "\n",
    "    for i in range(0, len(tokens) - start_idx):\n",
    "        chars += remove_punc(tokens[start_idx + i]['originalText'])\n",
    "        if remove_punc(phrase) in chars:\n",
    "            end_idx = start_idx + i + 1\n",
    "            break\n",
    "\n",
    "    assert end_idx != -1, \"end_idx: {}, end_pos: {}, phrase: {}, tokens: {}, chars:{}\".format(end_idx, end_pos, phrase, tokens, chars)\n",
    "    return start_idx, end_idx"
   ]
  },
  {
   "cell_type": "code",
   "execution_count": null,
   "metadata": {},
   "outputs": [],
   "source": []
  },
  {
   "cell_type": "code",
   "execution_count": 18,
   "metadata": {},
   "outputs": [],
   "source": [
    "# for item in sentences:\n",
    "    \n",
    "#     data = item \n",
    "    \n",
    "#     nlp_res_raw = Snlp.annotate(item['sentence'])\n",
    "#     nlp_res = json.loads(nlp_res_raw)\n",
    "#     tokens = nlp_res['sentences'][0]['tokens']\n",
    "    \n",
    "#     sent_start_pos = item['position'][0]\n",
    "    \n",
    "#     for entity_mention in item['golden-entity-mentions']:\n",
    "        \n",
    "#         position = entity_mention['position']\n",
    "        \n",
    "#         start_idx, end_idx = find_token_index(\n",
    "#             tokens=tokens,\n",
    "#             start_pos=position[0] - sent_start_pos,\n",
    "#             end_pos=position[1] - sent_start_pos + 1,\n",
    "#             phrase=entity_mention['text'],\n",
    "#     )\n",
    "\n",
    "#         entity_mention['start'] = start_idx\n",
    "#         entity_mention['end'] = end_idx\n",
    "\n",
    "#         del entity_mention['position']\n",
    "    \n",
    "#     data['golden-entity-mentions'].append(entity_mention)\n",
    "        \n",
    "#     results.append(data)"
   ]
  },
  {
   "cell_type": "code",
   "execution_count": null,
   "metadata": {},
   "outputs": [],
   "source": []
  },
  {
   "cell_type": "code",
   "execution_count": 19,
   "metadata": {},
   "outputs": [],
   "source": [
    "def fix_entity_index(item):\n",
    "        \n",
    "    nlp_res_raw = Snlp.annotate(item['sentence'])\n",
    "    nlp_res = json.loads(nlp_res_raw)\n",
    "    tokens = nlp_res['sentences'][0]['tokens']\n",
    "\n",
    "    sent_start_pos = item['position'][0]\n",
    "\n",
    "    for entity_mention in item['golden-entity-mentions']:\n",
    "\n",
    "        position = entity_mention['position']\n",
    "\n",
    "        start_idx, end_idx = find_token_index(\n",
    "            tokens=tokens,\n",
    "            start_pos=position[0] - sent_start_pos,\n",
    "            end_pos=position[1] - sent_start_pos + 1,\n",
    "            phrase=entity_mention['text'],\n",
    "    )\n",
    "\n",
    "        entity_mention['start'] = start_idx\n",
    "        entity_mention['end'] = end_idx\n",
    "\n",
    "       # del entity_mention['position']\n",
    "\n",
    "    #item['golden-entity-mentions'].append(entity_mention)\n",
    "\n",
    "    return item"
   ]
  },
  {
   "cell_type": "code",
   "execution_count": 20,
   "metadata": {},
   "outputs": [],
   "source": [
    "def fix_entity_indices(sentences):\n",
    "    \n",
    "    results = []\n",
    "    \n",
    "    for item in sentences:\n",
    "        \n",
    "        result = fix_entity_index(item)\n",
    "        \n",
    "        results.append(result)\n",
    "        \n",
    "    return results"
   ]
  },
  {
   "cell_type": "code",
   "execution_count": 21,
   "metadata": {},
   "outputs": [
    {
     "name": "stdout",
     "output_type": "stream",
     "text": [
      "{'sentence': 'caitie is providing a couple of sample sentences.', 'position': [0, 49], 'golden-entity-mentions': [{'text': 'caitie', 'position': [0, 6], 'entity-type': 'ORG'}], 'golden-event-mentions': []}\n"
     ]
    }
   ],
   "source": [
    "print(sentences[0])"
   ]
  },
  {
   "cell_type": "code",
   "execution_count": 22,
   "metadata": {},
   "outputs": [
    {
     "name": "stdout",
     "output_type": "stream",
     "text": [
      "{'sentence': 'caitie is providing a couple of sample sentences.', 'position': [0, 49], 'golden-entity-mentions': [{'text': 'caitie', 'position': [0, 6], 'entity-type': 'ORG'}], 'golden-event-mentions': [], 'stanford-colcc': ['ROOT/dep=2/gov=-1', 'nsubj/dep=0/gov=2', 'aux/dep=1/gov=2', 'det:qmod/dep=3/gov=7', 'mwe/dep=4/gov=3', 'mwe/dep=5/gov=3', 'compound/dep=6/gov=7', 'dobj/dep=7/gov=2', 'punct/dep=8/gov=2'], 'words': ['caitie', 'is', 'providing', 'a', 'couple', 'of', 'sample', 'sentences', '.'], 'pos-tags': ['NN', 'VBZ', 'VBG', 'DT', 'NN', 'IN', 'NN', 'NNS', '.'], 'lemma': ['caitie', 'be', 'provide', 'a', 'couple', 'of', 'sample', 'sentence', '.'], 'parse': '(ROOT\\n  (S\\n    (NP (NN caitie))\\n    (VP (VBZ is)\\n      (VP (VBG providing)\\n        (NP\\n          (NP (DT a) (NN couple))\\n          (PP (IN of)\\n            (NP (NN sample) (NNS sentences))))))\\n    (. .)))'}\n"
     ]
    }
   ],
   "source": [
    "print(post11[0])"
   ]
  },
  {
   "cell_type": "code",
   "execution_count": 23,
   "metadata": {},
   "outputs": [],
   "source": [
    "reusltzzz = fix_entity_indices(post11)"
   ]
  },
  {
   "cell_type": "code",
   "execution_count": 24,
   "metadata": {},
   "outputs": [
    {
     "data": {
      "text/plain": [
       "[{'sentence': 'caitie is providing a couple of sample sentences.',\n",
       "  'position': [0, 49],\n",
       "  'golden-entity-mentions': [{'text': 'caitie',\n",
       "    'position': [0, 6],\n",
       "    'entity-type': 'ORG',\n",
       "    'start': 0,\n",
       "    'end': 1}],\n",
       "  'golden-event-mentions': [],\n",
       "  'stanford-colcc': ['ROOT/dep=2/gov=-1',\n",
       "   'nsubj/dep=0/gov=2',\n",
       "   'aux/dep=1/gov=2',\n",
       "   'det:qmod/dep=3/gov=7',\n",
       "   'mwe/dep=4/gov=3',\n",
       "   'mwe/dep=5/gov=3',\n",
       "   'compound/dep=6/gov=7',\n",
       "   'dobj/dep=7/gov=2',\n",
       "   'punct/dep=8/gov=2'],\n",
       "  'words': ['caitie',\n",
       "   'is',\n",
       "   'providing',\n",
       "   'a',\n",
       "   'couple',\n",
       "   'of',\n",
       "   'sample',\n",
       "   'sentences',\n",
       "   '.'],\n",
       "  'pos-tags': ['NN', 'VBZ', 'VBG', 'DT', 'NN', 'IN', 'NN', 'NNS', '.'],\n",
       "  'lemma': ['caitie',\n",
       "   'be',\n",
       "   'provide',\n",
       "   'a',\n",
       "   'couple',\n",
       "   'of',\n",
       "   'sample',\n",
       "   'sentence',\n",
       "   '.'],\n",
       "  'parse': '(ROOT\\n  (S\\n    (NP (NN caitie))\\n    (VP (VBZ is)\\n      (VP (VBG providing)\\n        (NP\\n          (NP (DT a) (NN couple))\\n          (PP (IN of)\\n            (NP (NN sample) (NNS sentences))))))\\n    (. .)))'},\n",
       " {'sentence': 'caitie is providing a couple of sample sentences.',\n",
       "  'position': [0, 49],\n",
       "  'golden-entity-mentions': [{'text': 'caitie',\n",
       "    'position': [0, 6],\n",
       "    'entity-type': 'ORG',\n",
       "    'start': 0,\n",
       "    'end': 1}],\n",
       "  'golden-event-mentions': [],\n",
       "  'stanford-colcc': ['ROOT/dep=2/gov=-1',\n",
       "   'nsubj/dep=0/gov=2',\n",
       "   'aux/dep=1/gov=2',\n",
       "   'det:qmod/dep=3/gov=7',\n",
       "   'mwe/dep=4/gov=3',\n",
       "   'mwe/dep=5/gov=3',\n",
       "   'compound/dep=6/gov=7',\n",
       "   'dobj/dep=7/gov=2',\n",
       "   'punct/dep=8/gov=2'],\n",
       "  'words': ['caitie',\n",
       "   'is',\n",
       "   'providing',\n",
       "   'a',\n",
       "   'couple',\n",
       "   'of',\n",
       "   'sample',\n",
       "   'sentences',\n",
       "   '.'],\n",
       "  'pos-tags': ['NN', 'VBZ', 'VBG', 'DT', 'NN', 'IN', 'NN', 'NNS', '.'],\n",
       "  'lemma': ['caitie',\n",
       "   'be',\n",
       "   'provide',\n",
       "   'a',\n",
       "   'couple',\n",
       "   'of',\n",
       "   'sample',\n",
       "   'sentence',\n",
       "   '.'],\n",
       "  'parse': '(ROOT\\n  (S\\n    (NP (NN caitie))\\n    (VP (VBZ is)\\n      (VP (VBG providing)\\n        (NP\\n          (NP (DT a) (NN couple))\\n          (PP (IN of)\\n            (NP (NN sample) (NNS sentences))))))\\n    (. .)))'},\n",
       " {'sentence': 'caitie might need some help from jewell or max.',\n",
       "  'position': [50, 97],\n",
       "  'golden-entity-mentions': [{'text': 'caitie',\n",
       "    'position': [50, 56],\n",
       "    'entity-type': 'PERSON',\n",
       "    'start': 0,\n",
       "    'end': 1},\n",
       "   {'text': 'jewell',\n",
       "    'position': [83, 89],\n",
       "    'entity-type': 'PERSON',\n",
       "    'start': 6,\n",
       "    'end': 7},\n",
       "   {'text': 'max',\n",
       "    'position': [93, 96],\n",
       "    'entity-type': 'PERSON',\n",
       "    'start': 8,\n",
       "    'end': 9}],\n",
       "  'golden-event-mentions': [],\n",
       "  'stanford-colcc': ['ROOT/dep=2/gov=-1',\n",
       "   'nsubj/dep=0/gov=2',\n",
       "   'aux/dep=1/gov=2',\n",
       "   'det/dep=3/gov=4',\n",
       "   'dobj/dep=4/gov=2',\n",
       "   'case/dep=5/gov=6',\n",
       "   'nmod:from/dep=6/gov=2',\n",
       "   'cc/dep=7/gov=6',\n",
       "   'nmod:from/dep=8/gov=2',\n",
       "   'conj:or/dep=8/gov=6',\n",
       "   'punct/dep=9/gov=2'],\n",
       "  'words': ['caitie',\n",
       "   'might',\n",
       "   'need',\n",
       "   'some',\n",
       "   'help',\n",
       "   'from',\n",
       "   'jewell',\n",
       "   'or',\n",
       "   'max',\n",
       "   '.'],\n",
       "  'pos-tags': ['NN', 'MD', 'VB', 'DT', 'NN', 'IN', 'NN', 'CC', 'NN', '.'],\n",
       "  'lemma': ['caitie',\n",
       "   'might',\n",
       "   'need',\n",
       "   'some',\n",
       "   'help',\n",
       "   'from',\n",
       "   'jewell',\n",
       "   'or',\n",
       "   'max',\n",
       "   '.'],\n",
       "  'parse': '(ROOT\\n  (S\\n    (NP (NN caitie))\\n    (VP (MD might)\\n      (VP (VB need)\\n        (NP (DT some) (NN help))\\n        (PP (IN from)\\n          (NP (NN jewell)\\n            (CC or)\\n            (NN max)))))\\n    (. .)))'},\n",
       " {'sentence': 'caitie might need some help from jewell or max.',\n",
       "  'position': [50, 97],\n",
       "  'golden-entity-mentions': [{'text': 'caitie',\n",
       "    'position': [50, 56],\n",
       "    'entity-type': 'PERSON',\n",
       "    'start': 0,\n",
       "    'end': 1},\n",
       "   {'text': 'jewell',\n",
       "    'position': [83, 89],\n",
       "    'entity-type': 'PERSON',\n",
       "    'start': 6,\n",
       "    'end': 7},\n",
       "   {'text': 'max',\n",
       "    'position': [93, 96],\n",
       "    'entity-type': 'PERSON',\n",
       "    'start': 8,\n",
       "    'end': 9}],\n",
       "  'golden-event-mentions': [],\n",
       "  'stanford-colcc': ['ROOT/dep=2/gov=-1',\n",
       "   'nsubj/dep=0/gov=2',\n",
       "   'aux/dep=1/gov=2',\n",
       "   'det/dep=3/gov=4',\n",
       "   'dobj/dep=4/gov=2',\n",
       "   'case/dep=5/gov=6',\n",
       "   'nmod:from/dep=6/gov=2',\n",
       "   'cc/dep=7/gov=6',\n",
       "   'nmod:from/dep=8/gov=2',\n",
       "   'conj:or/dep=8/gov=6',\n",
       "   'punct/dep=9/gov=2'],\n",
       "  'words': ['caitie',\n",
       "   'might',\n",
       "   'need',\n",
       "   'some',\n",
       "   'help',\n",
       "   'from',\n",
       "   'jewell',\n",
       "   'or',\n",
       "   'max',\n",
       "   '.'],\n",
       "  'pos-tags': ['NN', 'MD', 'VB', 'DT', 'NN', 'IN', 'NN', 'CC', 'NN', '.'],\n",
       "  'lemma': ['caitie',\n",
       "   'might',\n",
       "   'need',\n",
       "   'some',\n",
       "   'help',\n",
       "   'from',\n",
       "   'jewell',\n",
       "   'or',\n",
       "   'max',\n",
       "   '.'],\n",
       "  'parse': '(ROOT\\n  (S\\n    (NP (NN caitie))\\n    (VP (MD might)\\n      (VP (VB need)\\n        (NP (DT some) (NN help))\\n        (PP (IN from)\\n          (NP (NN jewell)\\n            (CC or)\\n            (NN max)))))\\n    (. .)))'}]"
      ]
     },
     "execution_count": 24,
     "metadata": {},
     "output_type": "execute_result"
    }
   ],
   "source": [
    "reusltzzz"
   ]
  },
  {
   "cell_type": "code",
   "execution_count": 25,
   "metadata": {},
   "outputs": [],
   "source": [
    "##fix the above function so it returns all of the already existing values"
   ]
  },
  {
   "cell_type": "code",
   "execution_count": null,
   "metadata": {},
   "outputs": [],
   "source": []
  },
  {
   "cell_type": "code",
   "execution_count": null,
   "metadata": {},
   "outputs": [],
   "source": []
  },
  {
   "cell_type": "code",
   "execution_count": null,
   "metadata": {},
   "outputs": [],
   "source": []
  },
  {
   "cell_type": "code",
   "execution_count": null,
   "metadata": {},
   "outputs": [],
   "source": []
  },
  {
   "cell_type": "code",
   "execution_count": null,
   "metadata": {},
   "outputs": [],
   "source": []
  },
  {
   "cell_type": "code",
   "execution_count": null,
   "metadata": {},
   "outputs": [],
   "source": []
  },
  {
   "cell_type": "code",
   "execution_count": null,
   "metadata": {},
   "outputs": [],
   "source": []
  },
  {
   "cell_type": "code",
   "execution_count": null,
   "metadata": {},
   "outputs": [],
   "source": []
  },
  {
   "cell_type": "code",
   "execution_count": null,
   "metadata": {},
   "outputs": [],
   "source": []
  },
  {
   "cell_type": "code",
   "execution_count": null,
   "metadata": {},
   "outputs": [],
   "source": []
  },
  {
   "cell_type": "code",
   "execution_count": null,
   "metadata": {},
   "outputs": [],
   "source": []
  },
  {
   "cell_type": "code",
   "execution_count": null,
   "metadata": {},
   "outputs": [],
   "source": []
  },
  {
   "cell_type": "code",
   "execution_count": null,
   "metadata": {},
   "outputs": [],
   "source": []
  }
 ],
 "metadata": {
  "kernelspec": {
   "display_name": "Python 3",
   "language": "python",
   "name": "python3"
  },
  "language_info": {
   "codemirror_mode": {
    "name": "ipython",
    "version": 3
   },
   "file_extension": ".py",
   "mimetype": "text/x-python",
   "name": "python",
   "nbconvert_exporter": "python",
   "pygments_lexer": "ipython3",
   "version": "3.7.3"
  }
 },
 "nbformat": 4,
 "nbformat_minor": 2
}
